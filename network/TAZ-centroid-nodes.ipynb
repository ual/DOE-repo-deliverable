{
 "cells": [
  {
   "cell_type": "markdown",
   "metadata": {},
   "source": [
    "# Calculate TAZ centroids' nearest network nodes\n",
    "\n",
    "Given an input dataset of zone-to-zone travel demand data, convert the origins and destinations to network nodes nearest to each zone's centroid."
   ]
  },
  {
   "cell_type": "code",
   "execution_count": 1,
   "metadata": {},
   "outputs": [],
   "source": [
    "import numpy as np\n",
    "import pandas as pd\n",
    "import geopandas as gpd\n",
    "import osmnx as ox\n",
    "import time\n",
    "\n",
    "start_time = time.time()"
   ]
  },
  {
   "cell_type": "code",
   "execution_count": 2,
   "metadata": {},
   "outputs": [],
   "source": [
    "output_file = 'data/pm_peak_nodes.csv' #where to save the final output\n",
    "taz_travel_demand_file = 'data/pm_peak.csv' #travel demand from zone to zone\n",
    "taz_shapefile = 'Travel_Analysis_Zones/Travel_Analysis_Zones.shp' #taz geometries\n",
    "network_file = 'data/bayarea_tertiary_simplified.graphml' #the network we are modeling"
   ]
  },
  {
   "cell_type": "markdown",
   "metadata": {},
   "source": [
    "## Load the input data"
   ]
  },
  {
   "cell_type": "code",
   "execution_count": 3,
   "metadata": {},
   "outputs": [],
   "source": [
    "# the network that we are modeling\n",
    "G = ox.load_graphml(network_file, folder='.')"
   ]
  },
  {
   "cell_type": "code",
   "execution_count": 4,
   "metadata": {},
   "outputs": [
    {
     "data": {
      "text/plain": [
       "(1454, 6)"
      ]
     },
     "execution_count": 4,
     "metadata": {},
     "output_type": "execute_result"
    }
   ],
   "source": [
    "# the TAZ shapefile\n",
    "gdf = gpd.read_file(taz_shapefile)\n",
    "gdf.shape"
   ]
  },
  {
   "cell_type": "code",
   "execution_count": 5,
   "metadata": {},
   "outputs": [
    {
     "data": {
      "text/plain": [
       "(86563, 3)"
      ]
     },
     "execution_count": 5,
     "metadata": {},
     "output_type": "execute_result"
    }
   ],
   "source": [
    "# the travel demand data from zone to zone\n",
    "df = pd.read_csv(taz_travel_demand_file)\n",
    "df.shape"
   ]
  },
  {
   "cell_type": "markdown",
   "metadata": {},
   "source": [
    "## Project the shapefile to the same CRS as the network, then calculate TAZ centroids"
   ]
  },
  {
   "cell_type": "code",
   "execution_count": 6,
   "metadata": {},
   "outputs": [
    {
     "name": "stdout",
     "output_type": "stream",
     "text": [
      "{'init': 'epsg:26910'}\n",
      "{'init': 'epsg:4326'}\n"
     ]
    }
   ],
   "source": [
    "# what are the CRSs of the TAZ shapefile and the network?\n",
    "original_crs = gdf.crs\n",
    "print(original_crs)\n",
    "\n",
    "target_crs = G.graph['crs']\n",
    "print(target_crs)"
   ]
  },
  {
   "cell_type": "code",
   "execution_count": 7,
   "metadata": {},
   "outputs": [],
   "source": [
    "# project the TAZ geodataframe to the network's CRS\n",
    "gdf = gdf.to_crs(target_crs)"
   ]
  },
  {
   "cell_type": "code",
   "execution_count": 8,
   "metadata": {},
   "outputs": [
    {
     "data": {
      "text/plain": [
       "0     POINT (-121.857633666841 37.28926565704089)\n",
       "1     POINT (-121.853324889967 37.27757719988241)\n",
       "2    POINT (-121.8155657776301 37.29462130901247)\n",
       "3    POINT (-121.8156334258242 37.28067749895624)\n",
       "4     POINT (-121.8326218122455 37.3119281358813)\n",
       "Name: centroid, dtype: object"
      ]
     },
     "execution_count": 8,
     "metadata": {},
     "output_type": "execute_result"
    }
   ],
   "source": [
    "# calculate TAZ centroids\n",
    "gdf['centroid'] = gdf.centroid\n",
    "gdf['centroid'].head()"
   ]
  },
  {
   "cell_type": "markdown",
   "metadata": {},
   "source": [
    "## Find nearest network node to each TAZ centroid"
   ]
  },
  {
   "cell_type": "code",
   "execution_count": 9,
   "metadata": {},
   "outputs": [],
   "source": [
    "# extract lat, lng centroid tuples\n",
    "points = gdf['centroid'].map(lambda p: (p.y, p.x))"
   ]
  },
  {
   "cell_type": "code",
   "execution_count": 10,
   "metadata": {},
   "outputs": [],
   "source": [
    "# wrapper function for OSMnx to get network node nearest to some point\n",
    "def nearest_node(point):\n",
    "    return ox.get_nearest_node(G, point, method='greatcircle', return_dist=True)"
   ]
  },
  {
   "cell_type": "code",
   "execution_count": 11,
   "metadata": {},
   "outputs": [
    {
     "name": "stdout",
     "output_type": "stream",
     "text": [
      "Wall time: 1min 35s\n"
     ]
    }
   ],
   "source": [
    "%%time\n",
    "nodes_distances = points.map(nearest_node)"
   ]
  },
  {
   "cell_type": "code",
   "execution_count": 12,
   "metadata": {},
   "outputs": [],
   "source": [
    "# unzip the nearest nodes and their distances to the centroid into individual columns\n",
    "nodes, distances = zip(*nodes_distances)\n",
    "gdf['nearest_node'] = nodes\n",
    "gdf['nearest_node_distance'] = distances"
   ]
  },
  {
   "cell_type": "code",
   "execution_count": 13,
   "metadata": {},
   "outputs": [
    {
     "data": {
      "text/html": [
       "<div>\n",
       "<style scoped>\n",
       "    .dataframe tbody tr th:only-of-type {\n",
       "        vertical-align: middle;\n",
       "    }\n",
       "\n",
       "    .dataframe tbody tr th {\n",
       "        vertical-align: top;\n",
       "    }\n",
       "\n",
       "    .dataframe thead th {\n",
       "        text-align: right;\n",
       "    }\n",
       "</style>\n",
       "<table border=\"1\" class=\"dataframe\">\n",
       "  <thead>\n",
       "    <tr style=\"text-align: right;\">\n",
       "      <th></th>\n",
       "      <th>TAZ1454</th>\n",
       "      <th>centroid</th>\n",
       "      <th>nearest_node</th>\n",
       "      <th>nearest_node_distance</th>\n",
       "    </tr>\n",
       "  </thead>\n",
       "  <tbody>\n",
       "    <tr>\n",
       "      <th>0</th>\n",
       "      <td>566</td>\n",
       "      <td>POINT (-121.857633666841 37.28926565704089)</td>\n",
       "      <td>1105792616</td>\n",
       "      <td>205.079915</td>\n",
       "    </tr>\n",
       "    <tr>\n",
       "      <th>1</th>\n",
       "      <td>565</td>\n",
       "      <td>POINT (-121.853324889967 37.27757719988241)</td>\n",
       "      <td>1099259828</td>\n",
       "      <td>64.051030</td>\n",
       "    </tr>\n",
       "    <tr>\n",
       "      <th>2</th>\n",
       "      <td>573</td>\n",
       "      <td>POINT (-121.8155657776301 37.29462130901247)</td>\n",
       "      <td>1097706630</td>\n",
       "      <td>277.684824</td>\n",
       "    </tr>\n",
       "    <tr>\n",
       "      <th>3</th>\n",
       "      <td>571</td>\n",
       "      <td>POINT (-121.8156334258242 37.28067749895624)</td>\n",
       "      <td>65475266</td>\n",
       "      <td>205.125176</td>\n",
       "    </tr>\n",
       "    <tr>\n",
       "      <th>4</th>\n",
       "      <td>576</td>\n",
       "      <td>POINT (-121.8326218122455 37.3119281358813)</td>\n",
       "      <td>65555564</td>\n",
       "      <td>475.644355</td>\n",
       "    </tr>\n",
       "  </tbody>\n",
       "</table>\n",
       "</div>"
      ],
      "text/plain": [
       "   TAZ1454                                      centroid  nearest_node  \\\n",
       "0      566   POINT (-121.857633666841 37.28926565704089)    1105792616   \n",
       "1      565   POINT (-121.853324889967 37.27757719988241)    1099259828   \n",
       "2      573  POINT (-121.8155657776301 37.29462130901247)    1097706630   \n",
       "3      571  POINT (-121.8156334258242 37.28067749895624)      65475266   \n",
       "4      576   POINT (-121.8326218122455 37.3119281358813)      65555564   \n",
       "\n",
       "   nearest_node_distance  \n",
       "0             205.079915  \n",
       "1              64.051030  \n",
       "2             277.684824  \n",
       "3             205.125176  \n",
       "4             475.644355  "
      ]
     },
     "execution_count": 13,
     "metadata": {},
     "output_type": "execute_result"
    }
   ],
   "source": [
    "# display subset of results\n",
    "gdf[['TAZ1454', 'centroid', 'nearest_node', 'nearest_node_distance']].head()"
   ]
  },
  {
   "cell_type": "code",
   "execution_count": 14,
   "metadata": {},
   "outputs": [],
   "source": [
    "# create a dict keyed by zone ID with values of node ID nearest to zone's centroid\n",
    "zone_nodes = gdf[['TAZ1454', 'nearest_node']].set_index('TAZ1454')['nearest_node'].to_dict()"
   ]
  },
  {
   "cell_type": "markdown",
   "metadata": {},
   "source": [
    "## Add the network nodes to the zone-to-zone travel demand data"
   ]
  },
  {
   "cell_type": "code",
   "execution_count": 15,
   "metadata": {},
   "outputs": [
    {
     "data": {
      "text/html": [
       "<div>\n",
       "<style scoped>\n",
       "    .dataframe tbody tr th:only-of-type {\n",
       "        vertical-align: middle;\n",
       "    }\n",
       "\n",
       "    .dataframe tbody tr th {\n",
       "        vertical-align: top;\n",
       "    }\n",
       "\n",
       "    .dataframe thead th {\n",
       "        text-align: right;\n",
       "    }\n",
       "</style>\n",
       "<table border=\"1\" class=\"dataframe\">\n",
       "  <thead>\n",
       "    <tr style=\"text-align: right;\">\n",
       "      <th></th>\n",
       "      <th>OTAZ</th>\n",
       "      <th>DTAZ</th>\n",
       "      <th>trips</th>\n",
       "    </tr>\n",
       "  </thead>\n",
       "  <tbody>\n",
       "    <tr>\n",
       "      <th>0</th>\n",
       "      <td>1</td>\n",
       "      <td>7</td>\n",
       "      <td>1</td>\n",
       "    </tr>\n",
       "    <tr>\n",
       "      <th>1</th>\n",
       "      <td>1</td>\n",
       "      <td>8</td>\n",
       "      <td>2</td>\n",
       "    </tr>\n",
       "    <tr>\n",
       "      <th>2</th>\n",
       "      <td>1</td>\n",
       "      <td>9</td>\n",
       "      <td>3</td>\n",
       "    </tr>\n",
       "    <tr>\n",
       "      <th>3</th>\n",
       "      <td>1</td>\n",
       "      <td>11</td>\n",
       "      <td>1</td>\n",
       "    </tr>\n",
       "    <tr>\n",
       "      <th>4</th>\n",
       "      <td>1</td>\n",
       "      <td>15</td>\n",
       "      <td>2</td>\n",
       "    </tr>\n",
       "  </tbody>\n",
       "</table>\n",
       "</div>"
      ],
      "text/plain": [
       "   OTAZ  DTAZ  trips\n",
       "0     1     7      1\n",
       "1     1     8      2\n",
       "2     1     9      3\n",
       "3     1    11      1\n",
       "4     1    15      2"
      ]
     },
     "execution_count": 15,
     "metadata": {},
     "output_type": "execute_result"
    }
   ],
   "source": [
    "# make sure we're working with integers\n",
    "df['DTAZ'] = df['DTAZ'].astype(np.int64)\n",
    "df['OTAZ'] = df['OTAZ'].astype(np.int64)\n",
    "df['trips'] = df['trips'].astype(np.int64)\n",
    "df.head()"
   ]
  },
  {
   "cell_type": "code",
   "execution_count": 16,
   "metadata": {},
   "outputs": [],
   "source": [
    "# given a zone, return the node nearest to its centroid\n",
    "def lookup_nearest_node(zone):\n",
    "    if zone in zone_nodes:\n",
    "        return zone_nodes[zone]\n",
    "    else:\n",
    "        print('ERROR: zone \"{}\" not found in dict'.format(zone))"
   ]
  },
  {
   "cell_type": "code",
   "execution_count": 17,
   "metadata": {},
   "outputs": [],
   "source": [
    "# get the origin nodes for all the origin zones\n",
    "df['orig'] = df['OTAZ'].map(lookup_nearest_node)"
   ]
  },
  {
   "cell_type": "code",
   "execution_count": 18,
   "metadata": {},
   "outputs": [],
   "source": [
    "# get the destination nodes for all the destination zones\n",
    "df['dest'] = df['DTAZ'].map(lookup_nearest_node)"
   ]
  },
  {
   "cell_type": "code",
   "execution_count": 19,
   "metadata": {},
   "outputs": [],
   "source": [
    "# clean up the data into the format LBNL desires\n",
    "df['dest'] = df['dest'].astype(np.int64)\n",
    "df['orig'] = df['orig'].astype(np.int64)\n",
    "df = df.drop(labels=['OTAZ', 'DTAZ'], axis=1)\n",
    "df = df.reindex(labels=['orig', 'dest', 'trips'], axis=1)"
   ]
  },
  {
   "cell_type": "code",
   "execution_count": 20,
   "metadata": {},
   "outputs": [
    {
     "data": {
      "text/html": [
       "<div>\n",
       "<style scoped>\n",
       "    .dataframe tbody tr th:only-of-type {\n",
       "        vertical-align: middle;\n",
       "    }\n",
       "\n",
       "    .dataframe tbody tr th {\n",
       "        vertical-align: top;\n",
       "    }\n",
       "\n",
       "    .dataframe thead th {\n",
       "        text-align: right;\n",
       "    }\n",
       "</style>\n",
       "<table border=\"1\" class=\"dataframe\">\n",
       "  <thead>\n",
       "    <tr style=\"text-align: right;\">\n",
       "      <th></th>\n",
       "      <th>orig</th>\n",
       "      <th>dest</th>\n",
       "      <th>trips</th>\n",
       "    </tr>\n",
       "  </thead>\n",
       "  <tbody>\n",
       "    <tr>\n",
       "      <th>0</th>\n",
       "      <td>65295278</td>\n",
       "      <td>65334120</td>\n",
       "      <td>1</td>\n",
       "    </tr>\n",
       "    <tr>\n",
       "      <th>1</th>\n",
       "      <td>65295278</td>\n",
       "      <td>65343958</td>\n",
       "      <td>2</td>\n",
       "    </tr>\n",
       "    <tr>\n",
       "      <th>2</th>\n",
       "      <td>65295278</td>\n",
       "      <td>65352337</td>\n",
       "      <td>3</td>\n",
       "    </tr>\n",
       "    <tr>\n",
       "      <th>3</th>\n",
       "      <td>65295278</td>\n",
       "      <td>65325032</td>\n",
       "      <td>1</td>\n",
       "    </tr>\n",
       "    <tr>\n",
       "      <th>4</th>\n",
       "      <td>65295278</td>\n",
       "      <td>65309522</td>\n",
       "      <td>2</td>\n",
       "    </tr>\n",
       "  </tbody>\n",
       "</table>\n",
       "</div>"
      ],
      "text/plain": [
       "       orig      dest  trips\n",
       "0  65295278  65334120      1\n",
       "1  65295278  65343958      2\n",
       "2  65295278  65352337      3\n",
       "3  65295278  65325032      1\n",
       "4  65295278  65309522      2"
      ]
     },
     "execution_count": 20,
     "metadata": {},
     "output_type": "execute_result"
    }
   ],
   "source": [
    "# display a subset of the final data\n",
    "df.head()"
   ]
  },
  {
   "cell_type": "code",
   "execution_count": 21,
   "metadata": {},
   "outputs": [],
   "source": [
    "# save out to CSV\n",
    "df.to_csv(output_file, index=False, encoding='utf-8')"
   ]
  },
  {
   "cell_type": "code",
   "execution_count": 22,
   "metadata": {},
   "outputs": [
    {
     "data": {
      "text/plain": [
       "104.20572972297668"
      ]
     },
     "execution_count": 22,
     "metadata": {},
     "output_type": "execute_result"
    }
   ],
   "source": [
    "# process is all done, show elapsed time\n",
    "elapsed_time = time.time() - start_time\n",
    "elapsed_time"
   ]
  }
 ],
 "metadata": {
  "kernelspec": {
   "display_name": "Python 3",
   "language": "python",
   "name": "python3"
  },
  "language_info": {
   "codemirror_mode": {
    "name": "ipython",
    "version": 3
   },
   "file_extension": ".py",
   "mimetype": "text/x-python",
   "name": "python",
   "nbconvert_exporter": "python",
   "pygments_lexer": "ipython3",
   "version": "3.6.4"
  }
 },
 "nbformat": 4,
 "nbformat_minor": 2
}
